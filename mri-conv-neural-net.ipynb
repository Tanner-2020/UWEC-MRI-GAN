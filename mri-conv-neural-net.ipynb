{
 "cells": [
  {
   "cell_type": "markdown",
   "metadata": {
    "cell_id": "a9c1ca72417e41b18653bf6df39f8732",
    "deepnote_cell_type": "markdown"
   },
   "source": [
    "# MRI Convolutional Neural Network Testing"
   ]
  },
  {
   "cell_type": "markdown",
   "metadata": {
    "cell_id": "05d51ea1f27c4bbdbcbe3cbd60ae7d8c",
    "deepnote_cell_type": "markdown"
   },
   "source": [
    "## Installation and Initial Setup"
   ]
  },
  {
   "cell_type": "code",
   "execution_count": 1,
   "metadata": {
    "cell_id": "a5543cc53051456c8b7e315792ecc4de",
    "deepnote_cell_type": "code",
    "deepnote_to_be_reexecuted": false,
    "execution_millis": 5710,
    "execution_start": 1675374930515,
    "source_hash": "4a3b8eaf"
   },
   "outputs": [
    {
     "name": "stdout",
     "output_type": "stream",
     "text": [
      "boo\n"
     ]
    }
   ],
   "source": [
    "import tensorflow as tf\n",
    "from tensorflow.keras import layers, models\n",
    "import matplotlib.pyplot as plt\n",
    "import numpy as np\n",
    "import cv2\n",
    "import os"
   ]
  },
  {
   "cell_type": "code",
   "execution_count": 2,
   "metadata": {
    "cell_id": "13ae9c98e50342c3adbe6e5076d44aae",
    "deepnote_cell_type": "code",
    "deepnote_to_be_reexecuted": false,
    "execution_millis": 1,
    "execution_start": 1675374936243,
    "source_hash": "32347224"
   },
   "outputs": [],
   "source": [
    "tumor_train = '../cnn-gan-data/train-images/yes-tumor/real-images'\n",
    "no_tumor_train = '../cnn-gan-data/train-images/no-tumor/real-images'\n",
    "tumor_test = '../cnn-gan-data/test-images/yes-tumor'\n",
    "no_tumor_test = '../cnn-gan-data/test-images/no-tumor'\n",
    "images = []\n",
    "labels = []\n",
    "\n",
    "test_images = []\n",
    "test_labels = []"
   ]
  },
  {
   "cell_type": "code",
   "execution_count": 3,
   "metadata": {
    "cell_id": "139963c6208b4c36863ab0f9e612bcc3",
    "deepnote_cell_type": "code",
    "deepnote_to_be_reexecuted": false,
    "execution_millis": 0,
    "execution_start": 1675374936244,
    "source_hash": "6360fbbc"
   },
   "outputs": [],
   "source": [
    "# ganMode accepts None ,DC, W, or Unrolled as values\n",
    "ganMode = 'DC'\n",
    "# genEpochs accepts 5, 15, or 25 epochs\n",
    "genEpochs = 5\n",
    "# trialNumber accepts integer values 0 to 4\n",
    "trialNumber = 0"
   ]
  },
  {
   "cell_type": "markdown",
   "metadata": {
    "cell_id": "86b84d0212c74b16b062e998e08ee938",
    "deepnote_cell_type": "markdown"
   },
   "source": [
    "## Loading Images and Labels"
   ]
  },
  {
   "cell_type": "code",
   "execution_count": 4,
   "metadata": {},
   "outputs": [],
   "source": [
    "for image_name in os.listdir(no_tumor_train):  \n",
    "    img_dir = os.path.join(no_tumor_train, image_name)\n",
    "    image = cv2.imread(img_dir)\n",
    "    image = cv2.cvtColor(image, cv2.COLOR_BGR2GRAY)\n",
    "    image = cv2.resize(image, (128, 128))\n",
    "    images.append(image)\n",
    "    labels.append(0)\n",
    "        \n",
    "for image_name in os.listdir(tumor_train):\n",
    "    img_dir = os.path.join(tumor_train, image_name)\n",
    "    image = cv2.imread(img_dir)\n",
    "    image = cv2.cvtColor(image, cv2.COLOR_BGR2GRAY)\n",
    "    image = cv2.resize(image, (128, 128))\n",
    "    images.append(image)\n",
    "    labels.append(1)\n",
    "    \n",
    "if ganMode != 'None':\n",
    "    if ganMode == 'DC':\n",
    "        tumorPath = '../cnn-gan-data/train-images/yes-tumor/dcgan-images'\n",
    "        noTumorPath = '../cnn-gan-data/train-images/no-tumor/dcgan-images'\n",
    "    if ganMode == 'Unrolled':\n",
    "        tumorPath = '../cnn-gan-data/train-images/yes-tumor/unrolled-images'\n",
    "        noTumorPath = '../cnn-gan-data/train-images/no-tumor/unrolled-images'\n",
    "    if ganMode == 'W':\n",
    "        tumorPath = '../cnn-gan-data/train-images/yes-tumor/wgan-images'\n",
    "        noTumorPath = '../cnn-gan-data/train-images/no-tumor/wgan-images'\n",
    "\n",
    "    if genEpochs == 5:\n",
    "        tumorPath = tumorPath + '/Epochs5'\n",
    "        noTumorPath = noTumorPath +'/Epochs5'\n",
    "    if genEpochs == 15:\n",
    "        tumorPath = tumorPath + '/Epochs15'\n",
    "        noTumorPath = noTumorPath +'/Epochs15'  \n",
    "    if genEpochs == 25:\n",
    "        tumorPath = tumorPath + '/Epochs25'\n",
    "        noTumorPath = noTumorPath +'/Epochs25'\n",
    "\n",
    "    imageIndex = 100 * trialNumber\n",
    "    maxIndex = imageIndex + 100 - 1\n",
    "\n",
    "    for image_name in os.listdir(noTumorPath):\n",
    "        if image_name == 'gen' + str(imageIndex) + '.png' and imageIndex <= maxIndex:\n",
    "            imageIndex = imageIndex + 1\n",
    "            img_dir = os.path.join(noTumorPath, image_name)\n",
    "            image = cv2.imread(img_dir)\n",
    "            image = cv2.cvtColor(image, cv2.COLOR_BGR2GRAY)\n",
    "            image = cv2.resize(image, (128, 128))\n",
    "            images.append(image)\n",
    "            labels.append(0)\n",
    "\n",
    "    imageIndex = 100 * trialNumber\n",
    "\n",
    "\n",
    "    for image_name in os.listdir(tumorPath):\n",
    "        if image_name == 'gen' + str(imageIndex) + '.png' and imageIndex <= maxIndex:\n",
    "            imageIndex = imageIndex + 1\n",
    "            img_dir = os.path.join(tumorPath, image_name)\n",
    "            image = cv2.imread(img_dir)\n",
    "            image = cv2.cvtColor(image, cv2.COLOR_BGR2GRAY)\n",
    "            image = cv2.resize(image, (128, 128))\n",
    "            images.append(image)\n",
    "            labels.append(1)\n",
    "        \n",
    "images = np.array(images)\n",
    "labels = np.array(labels)"
   ]
  },
  {
   "cell_type": "code",
   "execution_count": 5,
   "metadata": {
    "cell_id": "8d0fd59c97e34059b24b42631e91331f",
    "deepnote_cell_type": "code",
    "deepnote_to_be_reexecuted": false,
    "execution_millis": 3670,
    "execution_start": 1675374939639,
    "source_hash": "a78e9df1"
   },
   "outputs": [],
   "source": [
    "for image_name in os.listdir(no_tumor_test):  \n",
    "    img_dir = os.path.join(no_tumor_test, image_name)\n",
    "    image = cv2.imread(img_dir)\n",
    "    image = cv2.cvtColor(image, cv2.COLOR_BGR2GRAY)\n",
    "    image = cv2.resize(image, (128, 128))\n",
    "    test_images.append(image)\n",
    "    test_labels.append(0)\n",
    "        \n",
    "for image_name in os.listdir(tumor_test):\n",
    "    img_dir = os.path.join(tumor_test, image_name)\n",
    "    image = cv2.imread(img_dir)\n",
    "    image = cv2.cvtColor(image, cv2.COLOR_BGR2GRAY)\n",
    "    image = cv2.resize(image, (128, 128))\n",
    "    test_images.append(image)\n",
    "    test_labels.append(1)\n",
    "        \n",
    "test_images = np.array(images)\n",
    "test_labels = np.array(labels)"
   ]
  },
  {
   "cell_type": "code",
   "execution_count": 6,
   "metadata": {},
   "outputs": [
    {
     "name": "stdout",
     "output_type": "stream",
     "text": [
      "26214400\n",
      "26214400\n"
     ]
    }
   ],
   "source": [
    "print(images.size)\n",
    "print(test_images.size)"
   ]
  },
  {
   "cell_type": "markdown",
   "metadata": {
    "cell_id": "7568974255f2487d8e7c998613c1c01b",
    "deepnote_cell_type": "markdown"
   },
   "source": [
    "## Verify Data"
   ]
  },
  {
   "cell_type": "code",
   "execution_count": 7,
   "metadata": {
    "cell_id": "d7aade74fd654d89ae538fb96ffc5501",
    "deepnote_cell_type": "code",
    "deepnote_to_be_reexecuted": false,
    "execution_millis": 45,
    "execution_start": 1675374943313,
    "source_hash": "2377814b"
   },
   "outputs": [],
   "source": [
    "class_names = ['non-tumorous', 'tumorous']"
   ]
  },
  {
   "cell_type": "code",
   "execution_count": null,
   "metadata": {
    "cell_id": "5029c6fce73844508499c7e33189793c",
    "deepnote_cell_type": "code",
    "deepnote_to_be_reexecuted": false,
    "execution_millis": 859,
    "execution_start": 1675374943358,
    "source_hash": "9cd6a081"
   },
   "outputs": [],
   "source": [
    "plt.figure(figsize=(10,10))\n",
    "for i in range(25):\n",
    "    plt.subplot(5,5,i+1)\n",
    "    plt.xticks([])\n",
    "    plt.yticks([])\n",
    "    plt.grid(False)\n",
    "    plt.imshow(images[740 + i])\n",
    "    plt.xlabel(class_names[labels[740+i]])\n",
    "plt.show()"
   ]
  },
  {
   "cell_type": "markdown",
   "metadata": {
    "cell_id": "3ee8d93b7b624120aaf4678a25d4daf0",
    "deepnote_cell_type": "markdown"
   },
   "source": [
    "## Create the Convolutional Base"
   ]
  },
  {
   "cell_type": "code",
   "execution_count": 9,
   "metadata": {
    "cell_id": "e5902a5b04634cb2a786b79ca4e307d0",
    "deepnote_cell_type": "code",
    "deepnote_to_be_reexecuted": false,
    "execution_millis": 218,
    "execution_start": 1675374944211,
    "source_hash": "5d26d86"
   },
   "outputs": [
    {
     "name": "stderr",
     "output_type": "stream",
     "text": [
      "2023-03-06 09:04:45.600852: I tensorflow/core/platform/cpu_feature_guard.cc:151] This TensorFlow binary is optimized with oneAPI Deep Neural Network Library (oneDNN) to use the following CPU instructions in performance-critical operations:  AVX2 FMA\n",
      "To enable them in other operations, rebuild TensorFlow with the appropriate compiler flags.\n",
      "2023-03-06 09:04:46.337837: I tensorflow/core/common_runtime/gpu/gpu_device.cc:1525] Created device /job:localhost/replica:0/task:0/device:GPU:0 with 30988 MB memory:  -> device: 0, name: Tesla V100S-PCIE-32GB, pci bus id: 0000:27:00.0, compute capability: 7.0\n",
      "2023-03-06 09:04:46.338836: I tensorflow/core/common_runtime/gpu/gpu_device.cc:1525] Created device /job:localhost/replica:0/task:0/device:GPU:1 with 30988 MB memory:  -> device: 1, name: Tesla V100S-PCIE-32GB, pci bus id: 0000:83:00.0, compute capability: 7.0\n"
     ]
    }
   ],
   "source": [
    "model = models.Sequential()\n",
    "model.add(layers.Conv2D(64, (3, 3), activation='relu', input_shape=(128, 128, 1)))\n",
    "model.add(layers.MaxPooling2D((2,2)))\n",
    "model.add(layers.Conv2D(128, (3, 3), activation='relu'))\n",
    "model.add(layers.MaxPooling2D((2,2)))\n",
    "model.add(layers.Conv2D(96, (3, 3), activation='relu'))"
   ]
  },
  {
   "cell_type": "code",
   "execution_count": 10,
   "metadata": {
    "cell_id": "74f886b6571e4ea2a7be0e704bcd1502",
    "deepnote_cell_type": "code",
    "deepnote_to_be_reexecuted": false,
    "execution_millis": 67,
    "execution_start": 1675374944400,
    "source_hash": "4e6a3b95"
   },
   "outputs": [
    {
     "name": "stdout",
     "output_type": "stream",
     "text": [
      "Model: \"sequential\"\n",
      "_________________________________________________________________\n",
      " Layer (type)                Output Shape              Param #   \n",
      "=================================================================\n",
      " conv2d (Conv2D)             (None, 126, 126, 64)      640       \n",
      "                                                                 \n",
      " max_pooling2d (MaxPooling2D  (None, 63, 63, 64)       0         \n",
      " )                                                               \n",
      "                                                                 \n",
      " conv2d_1 (Conv2D)           (None, 61, 61, 128)       73856     \n",
      "                                                                 \n",
      " max_pooling2d_1 (MaxPooling  (None, 30, 30, 128)      0         \n",
      " 2D)                                                             \n",
      "                                                                 \n",
      " conv2d_2 (Conv2D)           (None, 28, 28, 96)        110688    \n",
      "                                                                 \n",
      "=================================================================\n",
      "Total params: 185,184\n",
      "Trainable params: 185,184\n",
      "Non-trainable params: 0\n",
      "_________________________________________________________________\n"
     ]
    }
   ],
   "source": [
    "model.summary()"
   ]
  },
  {
   "cell_type": "code",
   "execution_count": 11,
   "metadata": {
    "cell_id": "ffa575db935d44ada7e9cb33a0408ac7",
    "deepnote_cell_type": "code",
    "deepnote_to_be_reexecuted": false,
    "execution_millis": 61,
    "execution_start": 1675374944491,
    "source_hash": "61685196"
   },
   "outputs": [],
   "source": [
    "model.add(layers.Flatten())\n",
    "model.add(layers.Dense(64, activation = 'relu'))\n",
    "model.add(layers.Dense(2, activation='softmax'))"
   ]
  },
  {
   "cell_type": "code",
   "execution_count": 12,
   "metadata": {
    "cell_id": "b651114db12a4a1a981afe087b0f96cb",
    "deepnote_cell_type": "code",
    "deepnote_to_be_reexecuted": false,
    "execution_millis": 171,
    "execution_start": 1675374944552,
    "source_hash": "4e6a3b95"
   },
   "outputs": [
    {
     "name": "stdout",
     "output_type": "stream",
     "text": [
      "Model: \"sequential\"\n",
      "_________________________________________________________________\n",
      " Layer (type)                Output Shape              Param #   \n",
      "=================================================================\n",
      " conv2d (Conv2D)             (None, 126, 126, 64)      640       \n",
      "                                                                 \n",
      " max_pooling2d (MaxPooling2D  (None, 63, 63, 64)       0         \n",
      " )                                                               \n",
      "                                                                 \n",
      " conv2d_1 (Conv2D)           (None, 61, 61, 128)       73856     \n",
      "                                                                 \n",
      " max_pooling2d_1 (MaxPooling  (None, 30, 30, 128)      0         \n",
      " 2D)                                                             \n",
      "                                                                 \n",
      " conv2d_2 (Conv2D)           (None, 28, 28, 96)        110688    \n",
      "                                                                 \n",
      " flatten (Flatten)           (None, 75264)             0         \n",
      "                                                                 \n",
      " dense (Dense)               (None, 64)                4816960   \n",
      "                                                                 \n",
      " dense_1 (Dense)             (None, 2)                 130       \n",
      "                                                                 \n",
      "=================================================================\n",
      "Total params: 5,002,274\n",
      "Trainable params: 5,002,274\n",
      "Non-trainable params: 0\n",
      "_________________________________________________________________\n"
     ]
    }
   ],
   "source": [
    "model.summary()"
   ]
  },
  {
   "cell_type": "markdown",
   "metadata": {
    "cell_id": "a88490936c6c48ac97b8d34776a6b2cb",
    "deepnote_cell_type": "markdown"
   },
   "source": [
    "## Compile Model"
   ]
  },
  {
   "cell_type": "code",
   "execution_count": 13,
   "metadata": {
    "cell_id": "f46235249ec540f7809c686b6b3ce81b",
    "deepnote_cell_type": "code",
    "deepnote_to_be_reexecuted": false,
    "execution_millis": 1161168,
    "execution_start": 1675374944683,
    "source_hash": "acd485f2"
   },
   "outputs": [],
   "source": [
    "images = np.expand_dims(images, axis = -1)\n",
    "test_images = np.expand_dims(test_images, axis = -1)"
   ]
  },
  {
   "cell_type": "code",
   "execution_count": 14,
   "metadata": {
    "cell_id": "85f58877ce844a1487e8a535306fcdab",
    "deepnote_cell_type": "code",
    "deepnote_to_be_reexecuted": false,
    "execution_millis": 688917,
    "execution_start": 1675374944684,
    "source_hash": "b027ab9f"
   },
   "outputs": [
    {
     "name": "stdout",
     "output_type": "stream",
     "text": [
      "Epoch 1/10\n"
     ]
    },
    {
     "name": "stderr",
     "output_type": "stream",
     "text": [
      "2023-03-06 09:04:47.454397: I tensorflow/stream_executor/cuda/cuda_dnn.cc:368] Loaded cuDNN version 8202\n"
     ]
    },
    {
     "name": "stdout",
     "output_type": "stream",
     "text": [
      "50/50 [==============================] - 2s 15ms/step - loss: 15.0589 - accuracy: 0.7469 - val_loss: 0.3398 - val_accuracy: 0.8419\n",
      "Epoch 2/10\n",
      "50/50 [==============================] - 1s 12ms/step - loss: 0.3512 - accuracy: 0.8331 - val_loss: 0.2507 - val_accuracy: 0.9062\n",
      "Epoch 3/10\n",
      "50/50 [==============================] - 1s 12ms/step - loss: 0.2089 - accuracy: 0.9169 - val_loss: 0.0988 - val_accuracy: 0.9650\n",
      "Epoch 4/10\n",
      "50/50 [==============================] - 1s 12ms/step - loss: 0.1248 - accuracy: 0.9531 - val_loss: 1.0678 - val_accuracy: 0.7650\n",
      "Epoch 5/10\n",
      "50/50 [==============================] - 1s 12ms/step - loss: 0.1715 - accuracy: 0.9438 - val_loss: 0.1005 - val_accuracy: 0.9606\n",
      "Epoch 6/10\n",
      "50/50 [==============================] - 1s 12ms/step - loss: 0.1213 - accuracy: 0.9519 - val_loss: 0.0723 - val_accuracy: 0.9719\n",
      "Epoch 7/10\n",
      "50/50 [==============================] - 1s 12ms/step - loss: 0.0720 - accuracy: 0.9731 - val_loss: 0.0420 - val_accuracy: 0.9894\n",
      "Epoch 8/10\n",
      "50/50 [==============================] - 1s 12ms/step - loss: 0.0564 - accuracy: 0.9812 - val_loss: 0.0277 - val_accuracy: 0.9956\n",
      "Epoch 9/10\n",
      "50/50 [==============================] - 1s 12ms/step - loss: 0.0309 - accuracy: 0.9906 - val_loss: 0.0180 - val_accuracy: 0.9962\n",
      "Epoch 10/10\n",
      "50/50 [==============================] - 1s 12ms/step - loss: 0.0280 - accuracy: 0.9912 - val_loss: 0.0551 - val_accuracy: 0.9825\n"
     ]
    }
   ],
   "source": [
    "model.compile(optimizer='adam',\n",
    "              loss='sparse_categorical_crossentropy',\n",
    "              metrics=['accuracy'])\n",
    "\n",
    "history = model.fit(images, labels, epochs=10, validation_data=(test_images, test_labels))"
   ]
  },
  {
   "cell_type": "markdown",
   "metadata": {
    "cell_id": "de33fbee430348c7ac31cc66ffc7b79c",
    "deepnote_cell_type": "markdown"
   },
   "source": [
    "## Display Model Results"
   ]
  },
  {
   "cell_type": "code",
   "execution_count": 15,
   "metadata": {
    "cell_id": "de465c70b36849a88628b131bae47316",
    "deepnote_cell_type": "code",
    "deepnote_to_be_reexecuted": false,
    "execution_millis": 10446,
    "execution_start": 1675375633609,
    "source_hash": "bee0a8d8"
   },
   "outputs": [
    {
     "name": "stdout",
     "output_type": "stream",
     "text": [
      "50/50 - 0s - loss: 0.0551 - accuracy: 0.9825 - 181ms/epoch - 4ms/step\n"
     ]
    },
    {
     "data": {
      "image/png": "[encoded data removed]",
      "text/plain": [
       "<Figure size 432x288 with 1 Axes>"
      ]
     },
     "metadata": {
      "needs_background": "light"
     },
     "output_type": "display_data"
    }
   ],
   "source": [
    "plt.plot(history.history['accuracy'], label='accuracy')\n",
    "plt.plot(history.history['val_accuracy'], label = 'val_accuracy')\n",
    "plt.xlabel('Epoch')\n",
    "plt.ylabel('Accuracy')\n",
    "plt.ylim([0.5, 1])\n",
    "plt.legend(loc='lower right')\n",
    "\n",
    "test_loss, test_acc = model.evaluate(test_images, test_labels, verbose=2)"
   ]
  },
  {
   "cell_type": "code",
   "execution_count": 16,
   "metadata": {
    "cell_id": "40c6c7acb112495797145993d0b483a5",
    "deepnote_cell_type": "code",
    "deepnote_to_be_reexecuted": false,
    "execution_millis": 18,
    "execution_start": 1675375644038,
    "source_hash": "7ca9d777"
   },
   "outputs": [
    {
     "name": "stdout",
     "output_type": "stream",
     "text": [
      "0.9825000166893005\n"
     ]
    }
   ],
   "source": [
    "print(test_acc)"
   ]
  }
 ],
 "metadata": {
  "deepnote": {},
  "deepnote_execution_queue": [],
  "deepnote_notebook_id": "c6a2308909644828a751cb777b824272",
  "kernelspec": {
   "display_name": "Python [conda env:tensorflow-2.8]",
   "language": "python",
   "name": "conda-env-tensorflow-2.8-py"
  },
  "language_info": {
   "codemirror_mode": {
    "name": "ipython",
    "version": 3
   },
   "file_extension": ".py",
   "mimetype": "text/x-python",
   "name": "python",
   "nbconvert_exporter": "python",
   "pygments_lexer": "ipython3",
   "version": "3.10.5"
  },
  "vscode": {
   "interpreter": {
    "hash": "d106074a4e29170248b154c49ca397e4e27c8ddcebdab0147dd7ea76f14049f2"
   }
  }
 },
 "nbformat": 4,
 "nbformat_minor": 1
}
